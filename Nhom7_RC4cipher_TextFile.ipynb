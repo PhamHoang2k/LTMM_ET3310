{
 "cells": [
  {
   "cell_type": "markdown",
   "id": "d0b89b17",
   "metadata": {},
   "source": [
    "### THỰC HIỆN MÃ HOÁ RC4 DỮ LIỆU TRUYỀN THÔNG VỚI ĐẦU VÀO ĐẦU RA LÀ FILE VĂN BẢN"
   ]
  },
  {
   "cell_type": "markdown",
   "id": "17c1e370",
   "metadata": {},
   "source": [
    "#### Thực hiện đọc file trong file đầu vào  plaintext.txt thực hiện mã hoá RC4 plaintext thành ciphertext ghi vào ciphertext.txt . Đọc file ciphertext.txt và giải mã RC4 ghi ra file đầu ra deciphertext.txt"
   ]
  },
  {
   "cell_type": "code",
   "execution_count": 2,
   "id": "6a1a3433",
   "metadata": {},
   "outputs": [],
   "source": [
    "\n",
    "import codecs\n",
    "A = 256   #Khai báo hằng A =256\n",
    "# Các hàm minh các các bước mã hoá RC4\n",
    "\n",
    "# Giai đoạn KSA vector S\n",
    "def KSA(key):\n",
    "    key_length = len(key)\n",
    "    # tạo mảng S\n",
    "    S = list(range(A))  # [0,1,2, ... , 255]\n",
    "    j = 0\n",
    "    for i in range(A):\n",
    "        j = (j + S[i] + key[i % key_length]) % A\n",
    "        S[i], S[j] = S[j], S[i]  # Hoán đổi gái trị S[i] và  S[j]\n",
    "\n",
    "    return S\n",
    "\n",
    "# Giai đoạn PRGA phát sinh ra Key \n",
    "def PRGA(S):\n",
    "    \n",
    "    i = 0\n",
    "    j = 0\n",
    "    while True:\n",
    "        i = (i + 1) % A\n",
    "        j = (j + S[i]) % A\n",
    "        S[i], S[j] = S[j], S[i]  # Hoán đổi giá trị\n",
    "        K = S[(S[i] + S[j]) % A]\n",
    "        yield K\n",
    "\n",
    "# Hàm lấy ra Keystream \n",
    "def get_keystream(key):\n",
    "    S = KSA(key)\n",
    "    return PRGA(S)\n",
    "\n",
    "# Thực hiện Xor bit giữa key và plaintext \n",
    "def encrypt_logic(key, text):\n",
    "    key = [ord(c) for c in key]\n",
    "    # If key is in hex:\n",
    "    # key = codecs.decode(key, 'hex_codec')\n",
    "    # key = [c for c in key]\n",
    "    keystream = get_keystream(key)\n",
    "    res = []\n",
    "    for c in text:\n",
    "        val = (\"%02X\" % (c ^ next(keystream)))  # XOR và trả về  hex\n",
    "        res.append(val)\n",
    "    return ''.join(res)\n",
    "\n",
    "# Hàm trả về kết quả mã hoá ,đầu vào plaintext và key\n",
    "def encrypt(key, plaintext):\n",
    "    \n",
    "    plaintext = [ord(c) for c in plaintext]\n",
    "    return encrypt_logic(key, plaintext)\n",
    "\n",
    "# Hàm giải mã \n",
    "def decrypt(key, ciphertext):\n",
    "    \n",
    "    ciphertext = codecs.decode(ciphertext, 'hex_codec')\n",
    "    res = encrypt_logic(key, ciphertext)\n",
    "    return codecs.decode(res, 'hex_codec').decode('utf-8')"
   ]
  },
  {
   "cell_type": "code",
   "execution_count": 3,
   "id": "abe1cf7c",
   "metadata": {},
   "outputs": [],
   "source": [
    "with open(\"Plaintext.txt\", \"r+\",encoding=\"utf-8\") as file:  # Đọc dữ liệu Plaintext \n",
    "    plaintext =file.read()"
   ]
  },
  {
   "cell_type": "code",
   "execution_count": 4,
   "id": "74b5f482",
   "metadata": {},
   "outputs": [
    {
     "name": "stdout",
     "output_type": "stream",
     "text": [
      "Plaintext đọc từ Plaintext.txt: \n",
      "\n",
      "\n",
      " Doan Text : Pham Huy Hoang Nhom 7 Pham Huy Hoang Nhom 7 \n",
      "                  Pham Huy Hoang Nhom 7 Pham Huy Hoang Nhom 7\n",
      "        Pham Huy Hoang Nhom 7 Pham Huy Hoang Nhom 7 Pham Huy Hoang Nhom 7\n",
      "Pham Huy Hoang Nhom 7 Pham Huy Hoang Nhom 7 Pham Huy Hoang Nhom 7\n",
      "\n",
      "\n",
      " \n"
     ]
    }
   ],
   "source": [
    "if __name__ == '__main__':\n",
    "    key = \"Hoang_nhom_7\"     #Key mã hoá \n",
    "\n",
    "print('Plaintext đọc từ Plaintext.txt: \\n\\n\\n', plaintext)\n",
    "\n"
   ]
  },
  {
   "cell_type": "code",
   "execution_count": 5,
   "id": "3441e586",
   "metadata": {},
   "outputs": [
    {
     "name": "stdout",
     "output_type": "stream",
     "text": [
      "Dữ liệu được mã hoá ghi vào cinphertext.txt: \n",
      " \n",
      " '8ECDE6E9FE3B9178D9C320D513D453489D70B69703B381A12B30A16822F74241AC54CBFF39838EFAE9CE022AAAFA509975279E4BB0FFFC8301B5AD98FFBCB01970DC5E4B996702BACD2DA7407D35E1F75613398EE5AC1F487DD1C2B108D5DF4E1E5822E60E101F6C2B545F707A11FD5EE631534A92DAFDD31320334F61E86E4909151576B28F033C3FF1EF8428CBA95EBD05FBBC77686EE4C211DE58D55C4D90075E23CC78C54D4D2644973B6BE8F6BA7A07D3828E1BEAA2D4E185BDF3B099E20BD16165E1E1E0F1246F075FC1E208E9647BFEA4DE38100417A7BE635E09BBB23331F68FC26BC56671E74AB430A3EBBFC2801119FB65A230439D65792C3A2A748DFC33E50A65'\n",
      "\n",
      " \n",
      " \n",
      "\n"
     ]
    }
   ],
   "source": [
    "ciphertext = encrypt(key, plaintext)           # Mã hoá RC4 dữ liệu\n",
    "with open(\"ciphertext.txt\", \"w\") as file:     # Ghi Cinphertext vào file cinphertext.txt\n",
    "    file.writelines(ciphertext)\n",
    "with open(\"ciphertext.txt\", \"r+\") as file:    # Đọc dữ liệu trong file cinphertext.txt\n",
    "    p =file.read()\n",
    "    print(\"Dữ liệu được mã hoá ghi vào cinphertext.txt: \\n \\n %r\" %p)\n",
    "    print(\"\\n \\n \\n\")"
   ]
  },
  {
   "cell_type": "code",
   "execution_count": 6,
   "id": "e8957ed4",
   "metadata": {},
   "outputs": [
    {
     "name": "stdout",
     "output_type": "stream",
     "text": [
      "Dữ liệu sau giải mã và ghi vào file deciphertext.txt : \n",
      "\n",
      "\n",
      "  Doan Text : Pham Huy Hoang Nhom 7 Pham Huy Hoang Nhom 7 \n",
      "                  Pham Huy Hoang Nhom 7 Pham Huy Hoang Nhom 7\n",
      "        Pham Huy Hoang Nhom 7 Pham Huy Hoang Nhom 7 Pham Huy Hoang Nhom 7\n",
      "Pham Huy Hoang Nhom 7 Pham Huy Hoang Nhom 7 Pham Huy Hoang Nhom 7\n",
      "\n",
      "\n",
      " \n"
     ]
    }
   ],
   "source": [
    "with open(\"ciphertext.txt\", \"r+\",encoding=\"utf-8\") as file:    # Đọc dữ liệu trong file ciphertext.txt và tiến hành giải mã\n",
    "    p =file.read()  \n",
    "    decrypted = decrypt(key,p)      # Giải mã dữ liệu\n",
    "    print(\"Dữ liệu sau giải mã và ghi vào file deciphertext.txt : \\n\\n\\n \",decrypted  )\n",
    "with open(\"deciphertext.txt\", \"w\",encoding=\"utf-8\") as file:     # Ghi dữ liệu sau giải mã  vào file deciphertext.txt\n",
    "    file.writelines(decrypted)"
   ]
  },
  {
   "cell_type": "markdown",
   "id": "757913a9",
   "metadata": {},
   "source": [
    " -------Kết thúc --------"
   ]
  },
  {
   "cell_type": "code",
   "execution_count": null,
   "id": "b672d0bc",
   "metadata": {},
   "outputs": [],
   "source": []
  }
 ],
 "metadata": {
  "kernelspec": {
   "display_name": "Python 3 (ipykernel)",
   "language": "python",
   "name": "python3"
  },
  "language_info": {
   "codemirror_mode": {
    "name": "ipython",
    "version": 3
   },
   "file_extension": ".py",
   "mimetype": "text/x-python",
   "name": "python",
   "nbconvert_exporter": "python",
   "pygments_lexer": "ipython3",
   "version": "3.9.0"
  }
 },
 "nbformat": 4,
 "nbformat_minor": 5
}
