{
 "cells": [
  {
   "cell_type": "markdown",
   "metadata": {},
   "source": [
    "# Demo code"
   ]
  },
  {
   "cell_type": "code",
   "execution_count": null,
   "metadata": {},
   "outputs": [],
   "source": [
    "Thực hiện SV Phạm Huy Hoàng nhóm 7"
   ]
  },
  {
   "cell_type": "code",
   "execution_count": null,
   "metadata": {},
   "outputs": [],
   "source": [
    "#Anh A gửi cho chị B thông tin :\"Phamhuyhoang\""
   ]
  },
  {
   "cell_type": "code",
   "execution_count": 1,
   "metadata": {
    "scrolled": true
   },
   "outputs": [
    {
     "name": "stdout",
     "output_type": "stream",
     "text": [
      "Phamhuyhoang\n",
      "phamhuyhoang\n",
      "p : 112\n",
      "h : 104\n",
      "a : 97\n",
      "m : 109\n",
      "h : 104\n",
      "u : 117\n",
      "y : 121\n",
      "h : 104\n",
      "o : 111\n",
      "a : 97\n",
      "n : 110\n",
      "g : 103\n"
     ]
    }
   ],
   "source": [
    "plain_text = \"Phamhuyhoang\"\n",
    "print(plain_text)\n",
    "plain_text = plain_text.lower()\n",
    "print(plain_text)\n",
    "for pc in plain_text:\n",
    "    print(pc,\":\", ord(pc))"
   ]
  },
  {
   "cell_type": "code",
   "execution_count": null,
   "metadata": {},
   "outputs": [],
   "source": [
    "#Thông tin sẽ được mã hoá với shift key=10 (tức là chữ cái được thay thế bởi chữ cái thứ 10 sau chữ cái đó trong bảng chữ cái)"
   ]
  },
  {
   "cell_type": "code",
   "execution_count": 4,
   "metadata": {},
   "outputs": [
    {
     "name": "stdout",
     "output_type": "stream",
     "text": [
      "ZRKWREIRYKXQ\n"
     ]
    }
   ],
   "source": [
    "cipher_text = \"\"\n",
    "key = 10\n",
    "for pc in plain_text:\n",
    "    cc = ((ord(pc)-97)%26 + key)%26\n",
    "    cipher_text += (chr(cc+97))\n",
    "\n",
    "cipher_text = cipher_text.upper()\n",
    "print(cipher_text)    "
   ]
  },
  {
   "cell_type": "code",
   "execution_count": 6,
   "metadata": {},
   "outputs": [],
   "source": [
    "received_text = cipher_text"
   ]
  },
  {
   "cell_type": "markdown",
   "metadata": {},
   "source": [
    "#Quá trình giải mã"
   ]
  },
  {
   "cell_type": "code",
   "execution_count": null,
   "metadata": {},
   "outputs": [],
   "source": [
    "#Thông tin mà chị B hiểu được sau khi giải mã "
   ]
  },
  {
   "cell_type": "code",
   "execution_count": null,
   "metadata": {},
   "outputs": [],
   "source": [
    "# phải modulo 26 vì thể hiện tính đóng kín (bảng chữ cái tiếng anh gồm 26 chữ cái)"
   ]
  },
  {
   "cell_type": "code",
   "execution_count": 9,
   "metadata": {},
   "outputs": [
    {
     "name": "stdout",
     "output_type": "stream",
     "text": [
      "Received encrypted text:  ZRKWREIRYKXQ\n",
      "Recovered text:  Phamhuyhoang\n"
     ]
    }
   ],
   "source": [
    "print(\"Received encrypted text: \", received_text)\n",
    "\n",
    "decipher_text = \"\"\n",
    "for cc in received_text:\n",
    "    dc = ((ord(cc)-65)%26-key)%26\n",
    "    decipher_text += (chr(dc+65))\n",
    "\n",
    "plain_text = decipher_text.lower()\n",
    "print(\"Recovered text: \", plain_text.capitalize())  "
   ]
  },
  {
   "cell_type": "code",
   "execution_count": null,
   "metadata": {},
   "outputs": [],
   "source": [
    "#Thông tin nếu bị nghe lén intercepting_text"
   ]
  },
  {
   "cell_type": "code",
   "execution_count": 10,
   "metadata": {},
   "outputs": [],
   "source": [
    "intercepting_text = cipher_text"
   ]
  },
  {
   "cell_type": "code",
   "execution_count": 11,
   "metadata": {},
   "outputs": [
    {
     "name": "stdout",
     "output_type": "stream",
     "text": [
      "ZRKWREIRYKXQ\n"
     ]
    }
   ],
   "source": [
    "print(intercepting_text)"
   ]
  },
  {
   "cell_type": "code",
   "execution_count": null,
   "metadata": {},
   "outputs": [],
   "source": []
  }
 ],
 "metadata": {
  "kernelspec": {
   "display_name": "Python 3 (ipykernel)",
   "language": "python",
   "name": "python3"
  },
  "language_info": {
   "codemirror_mode": {
    "name": "ipython",
    "version": 3
   },
   "file_extension": ".py",
   "mimetype": "text/x-python",
   "name": "python",
   "nbconvert_exporter": "python",
   "pygments_lexer": "ipython3",
   "version": "3.9.0"
  }
 },
 "nbformat": 4,
 "nbformat_minor": 4
}
